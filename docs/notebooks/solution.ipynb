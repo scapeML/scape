{
 "cells": [
  {
   "cell_type": "markdown",
   "metadata": {},
   "source": [
    "# Solution\n",
    "\n",
    "This notebook shows the procedure we used to generate the final submission for the challenge. We first used the median of 146 models (selected by leaving 1 drug out for NK cells) as the base prediction. This model was trained only on the top 64 most variable genes (sorted by variance), and was used to predict the ~18K signed log-pvalues.\n",
    "\n",
    "We then trained the same NN on a subset of the data. This produced again 146 models that we used to generate a median prediction only on that subset of the data. \n",
    "\n",
    "Finally, we replaced the base predictions with the for the final submission."
   ]
  },
  {
   "cell_type": "code",
   "execution_count": null,
   "metadata": {},
   "outputs": [],
   "source": [
    "import scape\n",
    "import pandas as pd\n",
    "import numpy as np\n",
    "\n",
    "scape.__version__, pd.__version__, np.__version__"
   ]
  },
  {
   "cell_type": "code",
   "execution_count": null,
   "metadata": {},
   "outputs": [],
   "source": [
    "df_de = scape.io.load_slogpvals(\"_data/de_train.parquet\")\n",
    "df_lfc = scape.io.load_lfc(\"_data/lfc_train.parquet\")\n",
    "\n",
    "# Make sure rows/columns are in the same order\n",
    "df_lfc = df_lfc.loc[df_de.index, df_de.columns]\n",
    "df_de.shape, df_lfc.shape"
   ]
  },
  {
   "cell_type": "code",
   "execution_count": null,
   "metadata": {},
   "outputs": [],
   "source": [
    "# We select only a subset of the genes for the model (top most variant genes)\n",
    "n_genes = 64\n",
    "top_genes = scape.util.select_top_variable([df_de], k=n_genes)\n",
    "#scm = scape.model.create_default_model(n_genes, df_de, df_lfc)\n",
    "#scape.util.plot(scm.model, show_shapes=True)"
   ]
  },
  {
   "cell_type": "markdown",
   "metadata": {},
   "source": [
    "## Base predictions"
   ]
  },
  {
   "cell_type": "code",
   "execution_count": null,
   "metadata": {},
   "outputs": [],
   "source": [
    "cell = \"NK cells\"\n",
    "drugs = df_de.loc[df_de.index.get_level_values(\"cell_type\") == cell].index.get_level_values(\"sm_name\").unique().tolist()\n",
    "len(drugs)"
   ]
  },
  {
   "cell_type": "code",
   "execution_count": null,
   "metadata": {},
   "outputs": [],
   "source": [
    "df_id_map = pd.read_csv(\"_data/id_map.zip\")\n",
    "df_sub = pd.read_csv(\"_data/sample_submission.zip\", index_col = 0)\n",
    "df_sub_ix = df_id_map.set_index([\"cell_type\", \"sm_name\"])\n",
    "df_sub_ix"
   ]
  },
  {
   "cell_type": "code",
   "execution_count": null,
   "metadata": {},
   "outputs": [],
   "source": [
    "base_predictions = []\n",
    "for i, d in enumerate(drugs):\n",
    "    print(i, d)\n",
    "    scm = scape.model.create_default_model(n_genes, df_de, df_lfc)\n",
    "    result = scm.train(\n",
    "        val_cells=[cell], \n",
    "        val_drugs=[d],\n",
    "        input_columns=top_genes,\n",
    "        epochs=300,\n",
    "        output_folder=\"_models\",\n",
    "        config_file_name=\"config.pkl\",\n",
    "        model_file_name=f\"drug{i}.keras\",\n",
    "        baselines=[\"zero\", \"slogpval_drug\"],\n",
    "    )\n",
    "    # Collect prediction in the OOF data\n",
    "    df_pred = scm.predict(df_sub_ix)\n",
    "    df_pred = df_pred.loc[:, df_sub.columns]\n",
    "    base_predictions.append(df_pred)\n",
    "\n",
    "df_sub = pd.DataFrame(np.median(base_predictions, axis=0), index=df_sub_ix.index, columns=df_sub.columns)\n",
    "df_sub\n"
   ]
  },
  {
   "cell_type": "markdown",
   "metadata": {},
   "source": [
    "## Enhanced predictions\n",
    "\n",
    "We selected a subset of the dataset consisting of the top 256 genes and top 60 drugs (sorted by variance). We trained the same model as before on this subset of the data, and used the 146 models to generate a median prediction on this subset of the data. We finally merged the results with the base predictions using a weighted mean (0.80 for the enhaced predictions in the subset of 256 genes and 60 drugs, 0.20 for the base prediction)"
   ]
  },
  {
   "cell_type": "code",
   "execution_count": null,
   "metadata": {},
   "outputs": [],
   "source": [
    "sub_drugs = df_sub_ix.index.get_level_values(\"sm_name\").unique().tolist()\n",
    "len(sub_drugs)"
   ]
  },
  {
   "cell_type": "code",
   "execution_count": null,
   "metadata": {},
   "outputs": [],
   "source": [
    "min_n_top_drugs = 50\n",
    "n_genes = 256\n",
    "\n",
    "# This time, exclude control drugs for the calculation of the top genes, in order to\n",
    "# introduce more variability in the model\n",
    "top_genes = scape.util.select_top_variable([df_de], k=n_genes, exclude_controls=True)"
   ]
  },
  {
   "cell_type": "code",
   "execution_count": null,
   "metadata": {},
   "outputs": [],
   "source": [
    "df_drug_effects = pd.DataFrame(df_de.T.pow(2).mean().pow(0.5).groupby(\"sm_name\").mean().sort_values(ascending=False), columns=[\"effect\"])\n",
    "df_drug_effects[\"effect_norm\"] = (df_drug_effects[\"effect\"] / df_drug_effects[\"effect\"].sum())*100\n",
    "df_drug_effects"
   ]
  },
  {
   "cell_type": "code",
   "execution_count": null,
   "metadata": {},
   "outputs": [],
   "source": [
    "top_sub_drugs = df_drug_effects.loc[sub_drugs].sort_values(\"effect\", ascending=False).head(min_n_top_drugs).index.tolist()\n",
    "len(top_sub_drugs)"
   ]
  },
  {
   "cell_type": "code",
   "execution_count": null,
   "metadata": {},
   "outputs": [],
   "source": [
    "top_all_drugs = df_drug_effects.head(min_n_top_drugs).index.tolist()\n",
    "top_drugs = set(top_all_drugs) | set(top_sub_drugs)\n",
    "len(top_drugs)"
   ]
  },
  {
   "cell_type": "code",
   "execution_count": null,
   "metadata": {},
   "outputs": [],
   "source": [
    "df_de_c = df_de[df_de.index.get_level_values(\"sm_name\").isin(top_drugs)]\n",
    "df_de_c = df_de_c.loc[:, top_genes]\n",
    "df_de_c"
   ]
  },
  {
   "cell_type": "code",
   "execution_count": null,
   "metadata": {},
   "outputs": [],
   "source": [
    "df_lfc_c = df_lfc.loc[df_de_c.index, df_de_c.columns]\n",
    "df_lfc_c.shape"
   ]
  },
  {
   "cell_type": "code",
   "execution_count": null,
   "metadata": {},
   "outputs": [],
   "source": [
    "enhanced_predictions = []\n",
    "for i, d in enumerate(top_drugs):\n",
    "    print(i, d)\n",
    "    scm = scape.model.create_default_model(n_genes, df_de_c, df_lfc_c)\n",
    "    result = scm.train(\n",
    "        val_cells=[cell], \n",
    "        val_drugs=[d],\n",
    "        input_columns=top_genes,\n",
    "        epochs=800,\n",
    "        output_folder=\"_models\",\n",
    "        config_file_name=\"enhanced_config.pkl\",\n",
    "        model_file_name=f\"enhanced_drug{i}.keras\",\n",
    "        baselines=[\"zero\", \"slogpval_drug\"],\n",
    "    )\n",
    "    # Collect prediction in the OOF data\n",
    "    df_pred = scm.predict(df_sub_ix)\n",
    "    enhanced_predictions.append(df_pred)\n",
    "\n",
    "df_sub_enhanced = pd.DataFrame(np.median(enhanced_predictions, axis=0), index=df_sub_ix.index, columns=df_de_c.columns)\n",
    "df_sub_enhanced\n"
   ]
  },
  {
   "cell_type": "code",
   "execution_count": null,
   "metadata": {},
   "outputs": [],
   "source": [
    "df_focus = df_sub.copy()\n",
    "df_focus.update(df_sub_enhanced)\n",
    "df_focus"
   ]
  },
  {
   "cell_type": "code",
   "execution_count": null,
   "metadata": {},
   "outputs": [],
   "source": [
    "df_submission = 0.80 * df_focus + 0.20 * df_sub\n",
    "df_submission"
   ]
  }
 ],
 "metadata": {
  "kernelspec": {
   "display_name": "Python 3 (ipykernel)",
   "language": "python",
   "name": "python3"
  },
  "language_info": {
   "codemirror_mode": {
    "name": "ipython",
    "version": 3
   },
   "file_extension": ".py",
   "mimetype": "text/x-python",
   "name": "python",
   "nbconvert_exporter": "python",
   "pygments_lexer": "ipython3",
   "version": "3.11.6"
  }
 },
 "nbformat": 4,
 "nbformat_minor": 4
}
