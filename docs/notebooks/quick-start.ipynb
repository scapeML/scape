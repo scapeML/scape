{
 "cells": [
  {
   "cell_type": "markdown",
   "metadata": {},
   "source": [
    "# Quickstart\n",
    "\n",
    "This notebook shows how to train and validate a model with ScAPE and how to do predictions for cell/drug combinations"
   ]
  },
  {
   "cell_type": "code",
   "execution_count": null,
   "metadata": {},
   "outputs": [],
   "source": [
    "# Disable all warnings\n",
    "import scape\n",
    "import pandas as pd\n",
    "import matplotlib.pyplot as plt\n",
    "\n",
    "scape.__version__"
   ]
  },
  {
   "cell_type": "code",
   "execution_count": null,
   "metadata": {},
   "outputs": [],
   "source": [
    "df_de = scape.io.load_slogpvals(\"_data/de_train.parquet\")\n",
    "df_lfc = scape.io.load_lfc(\"_data/lfc_train.parquet\")\n",
    "\n",
    "# Make sure rows/columns are in the same order\n",
    "df_lfc = df_lfc.loc[df_de.index, df_de.columns]\n",
    "df_de.shape, df_lfc.shape"
   ]
  },
  {
   "cell_type": "code",
   "execution_count": null,
   "metadata": {},
   "outputs": [],
   "source": [
    "# We select only a subset of the genes for the model (top most variant genes)\n",
    "n_genes = 64\n",
    "top_genes = scape.util.select_top_variable([df_de], k=n_genes)\n",
    "\n",
    "# Data sources point to the dataframes with the data from which the features are extracted\n",
    "data_sources = {\n",
    "    'slogpval': df_de,\n",
    "    'lfc_pseudo': df_lfc\n",
    "}\n",
    "\n",
    "# Define the way in which the features are extracted from the data sources\n",
    "feature_extraction = {\n",
    "    'slogpval_drug': {\n",
    "        'source': 'slogpval',\n",
    "        'groupby': 'sm_name',\n",
    "        'function': 'median'\n",
    "    },\n",
    "    'lfc_drug': {\n",
    "        'source': 'lfc_pseudo',\n",
    "        'groupby': 'sm_name',\n",
    "        'function': 'median'\n",
    "    },\n",
    "    'slogpval_cell': {\n",
    "        'source': 'slogpval',\n",
    "        'groupby': 'cell_type',\n",
    "        'function': 'median'\n",
    "    },\n",
    "    'lfc_cell': {\n",
    "        'source': 'lfc_pseudo',\n",
    "        'groupby': 'cell_type',\n",
    "        'function': 'median'\n",
    "    }\n",
    "}\n",
    "\n",
    "# Names of the input layers -> feature extraction method\n",
    "input_mapping = {\n",
    "    'in_slogpval_drug': 'slogpval_drug',\n",
    "    'in_lfc_drug': 'lfc_drug',\n",
    "    'in_slogpval_cell_encoder': 'slogpval_cell',\n",
    "    'in_lfc_cell_encoder': 'lfc_cell',\n",
    "    'in_slogpval_cell_decoder': 'slogpval_cell',\n",
    "    'in_lfc_cell_decoder': 'lfc_cell',\n",
    "}\n",
    "\n",
    "# Configuration for the NN architecture\n",
    "config = {\n",
    "    \"inputs\": {\n",
    "        \"in_slogpval_drug\"          : [n_genes, 256, 128],\n",
    "        \"in_lfc_drug\"               : [n_genes, 256, 128],\n",
    "    },\n",
    "    \"conditional_encoder_input_structure\": {\n",
    "        \"in_slogpval_cell_encoder\"  : [n_genes, 32],\n",
    "        \"in_lfc_cell_encoder\"       : [n_genes, 32, 16],\n",
    "    },\n",
    "    \"conditional_decoder_input_structure\": {\n",
    "        \"in_slogpval_cell_decoder\"  : [n_genes, 32],\n",
    "        \"in_lfc_cell_decoder\"       : [n_genes, 32, 16],\n",
    "    },\n",
    "    \"conditional_decoder_input_hidden_sizes\": [32],\n",
    "    \"encoder_hidden_layer_sizes\": [128, 128],\n",
    "    \"decoder_hidden_layer_sizes\": [128, 512],\n",
    "    \"outputs\": {\n",
    "        \"logpval\": (df_de.shape[1], \"linear\"), \n",
    "    },\n",
    "    # Layer config\n",
    "    \"noise\": 0.01,\n",
    "    \"dropout\": 0.05,\n",
    "    \"l1\": 0,\n",
    "    \"l2\": 0\n",
    "}\n",
    "\n",
    "model_setup = {\n",
    "    \"data_sources\": data_sources,\n",
    "    \"feature_extraction\": feature_extraction,\n",
    "    \"input_mapping\": input_mapping,\n",
    "    \"output_genes\": df_de.columns,\n",
    "    \"config\": config\n",
    "}\n",
    "\n",
    "# Create model\n",
    "scm = scape.SCAPE(model_setup)\n",
    "scape.util.plot(scm.model, show_shapes=True)"
   ]
  },
  {
   "cell_type": "code",
   "execution_count": null,
   "metadata": {},
   "outputs": [],
   "source": [
    "scm.model.summary()"
   ]
  },
  {
   "cell_type": "code",
   "execution_count": null,
   "metadata": {},
   "outputs": [],
   "source": [
    "result = scm.train(\n",
    "    val_cells=[\"NK cells\"], \n",
    "    val_drugs=[\"Prednisolone\"],\n",
    "    input_columns=top_genes,\n",
    "    epochs=300,\n",
    "    baselines=[\"zero\", \"slogpval_drug\"]\n",
    ")"
   ]
  },
  {
   "cell_type": "code",
   "execution_count": null,
   "metadata": {},
   "outputs": [],
   "source": [
    "scape.util.plot_result(result, legend=True)"
   ]
  },
  {
   "cell_type": "markdown",
   "metadata": {},
   "source": [
    "## Inference"
   ]
  },
  {
   "cell_type": "code",
   "execution_count": null,
   "metadata": {},
   "outputs": [],
   "source": [
    "# Predict using a given dataframe index\n",
    "scm.predict(df_de)"
   ]
  },
  {
   "cell_type": "code",
   "execution_count": null,
   "metadata": {},
   "outputs": [],
   "source": [
    "# Predict from a given multi-index\n",
    "scm.predict(\n",
    "    pd.MultiIndex.from_tuples([\n",
    "        (\"NK cells\", \"Bosutinib\"),\n",
    "        (\"NK cells\", \"Belinostat\"),\n",
    "        (\"Myeloid cells\", \"Bosutinib\"),\n",
    "        (\"Myeloid cells\", \"Belinostat\"),\n",
    "    ], names=[\"cell_type\", \"sm_name\"])\n",
    ")"
   ]
  },
  {
   "cell_type": "code",
   "execution_count": null,
   "metadata": {},
   "outputs": [],
   "source": [
    "# Predict from tuples\n",
    "scm.predict([(\"NK cells\", \"Bosutinib\"), (\"NK cells\", \"Belinostat\")])"
   ]
  },
  {
   "cell_type": "code",
   "execution_count": null,
   "metadata": {},
   "outputs": [],
   "source": [
    "# Plot correlation between predicted and observed values\n",
    "df_cmp = pd.DataFrame({\n",
    "    'y': df_de.loc[(\"NK cells\", \"Prednisolone\")].values.ravel(), \n",
    "    'y_pred': scm.predict([(\"NK cells\", \"Prednisolone\")]).values.ravel()\n",
    "})\n",
    "\n",
    "# Make the plot square with same X and Y limits\n",
    "df_cmp.plot.scatter(x='y', y='y_pred', alpha=0.5)"
   ]
  },
  {
   "cell_type": "code",
   "execution_count": null,
   "metadata": {},
   "outputs": [],
   "source": [
    "# Save model\n",
    "scm.save(\"_models/config.pkl\", \"_models/weights.keras\", \"_models/result.pkl\")"
   ]
  },
  {
   "cell_type": "code",
   "execution_count": null,
   "metadata": {},
   "outputs": [],
   "source": [
    "scm = scape.SCAPE.load(\"_models/config.pkl\", \"_models/weights.keras\", \"_models/result.pkl\")\n",
    "scm.predict([(\"NK cells\", \"Bosutinib\"), (\"NK cells\", \"Belinostat\")])"
   ]
  },
  {
   "cell_type": "markdown",
   "metadata": {},
   "source": [
    "## Save during training"
   ]
  },
  {
   "cell_type": "code",
   "execution_count": null,
   "metadata": {},
   "outputs": [],
   "source": [
    "scm = scape.SCAPE(model_setup)\n",
    "\n",
    "result = scm.train(\n",
    "    val_cells=[\"NK cells\"], \n",
    "    val_drugs=[\"Prednisolone\"],\n",
    "    input_columns=top_genes,\n",
    "    epochs=30,\n",
    "    baselines=[\"zero\", \"slogpval_drug\"],\n",
    "    output_folder=\"_models\",\n",
    "    config_file_name=\"example_config.pkl\",\n",
    "    model_file_name=f\"example_model.keras\",\n",
    "    result_file_name=\"example_result.pkl\"\n",
    ")"
   ]
  },
  {
   "cell_type": "code",
   "execution_count": null,
   "metadata": {},
   "outputs": [],
   "source": [
    "# Check that the error is the same\n",
    "scm = scape.model.SCAPE.load( \"_models/example_config.pkl\", \"_models/example_model.keras\", \"_models/example_result.pkl\")\n",
    "\n",
    "y_true = df_de.loc[(df_de.index.get_level_values(\"cell_type\") == \"NK cells\") & (df_de.index.get_level_values(\"sm_name\") == \"Prednisolone\")]\n",
    "y_pred = scm.predict([(\"NK cells\", \"Prednisolone\")])\n",
    "\n",
    "scape.losses.np_mrrmse(y_true, y_pred)"
   ]
  }
 ],
 "metadata": {
  "kernelspec": {
   "display_name": "Python 3 (ipykernel)",
   "language": "python",
   "name": "python3"
  },
  "language_info": {
   "codemirror_mode": {
    "name": "ipython",
    "version": 3
   },
   "file_extension": ".py",
   "mimetype": "text/x-python",
   "name": "python",
   "nbconvert_exporter": "python",
   "pygments_lexer": "ipython3",
   "version": "3.11.6"
  }
 },
 "nbformat": 4,
 "nbformat_minor": 4
}
